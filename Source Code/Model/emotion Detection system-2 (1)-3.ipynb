{
 "cells": [
  {
   "cell_type": "code",
   "execution_count": 28,
   "id": "f797f528-b4d7-44d5-9cf7-416cdad3d53c",
   "metadata": {},
   "outputs": [],
   "source": [
    "import tensorflow as tf\n",
    "from tensorflow.keras.models import Sequential\n",
    "from tensorflow.keras.layers import Conv2D, MaxPooling2D, Flatten, Dense, Dropout, IntegerLookup, BatchNormalization\n",
    "from tensorflow.keras.preprocessing.image import ImageDataGenerator\n",
    "from tensorflow.keras.optimizers import Adam\n",
    "import os\n",
    "import matplotlib.pyplot as plt\n",
    "import numpy as np\n",
    "import cv2"
   ]
  },
  {
   "cell_type": "code",
   "execution_count": 29,
   "id": "4c383a16-e200-4c97-a172-e56c29f13776",
   "metadata": {},
   "outputs": [],
   "source": [
    "# train_dir = 'testdata/images 2/train'\n",
    "# validation_dir = 'testdata/images 2/validation'\n",
    "\n",
    "train_dir = 'emotiondataset/images/images/train'\n",
    "validation_dir = 'emotiondataset/images/images/validation'"
   ]
  },
  {
   "cell_type": "code",
   "execution_count": 30,
   "id": "e5f10090-507c-4765-b915-4f7cae50809e",
   "metadata": {},
   "outputs": [
    {
     "name": "stdout",
     "output_type": "stream",
     "text": [
      "Found 28386 images belonging to 7 classes.\n",
      "Found 7066 images belonging to 7 classes.\n"
     ]
    }
   ],
   "source": [
    "train_datagen = ImageDataGenerator()\n",
    "\n",
    "validation_datagen = ImageDataGenerator()\n",
    "\n",
    "\n",
    "# Create data generators\n",
    "train_generator = train_datagen.flow_from_directory(\n",
    "    train_dir,\n",
    "    target_size=(48, 48),\n",
    "    batch_size=32,\n",
    "    color_mode='grayscale',\n",
    "    class_mode='categorical',\n",
    "    shuffle=True  # Add shuffling here\n",
    ")\n",
    "\n",
    "validation_generator = validation_datagen.flow_from_directory(\n",
    "    validation_dir,\n",
    "    target_size=(48, 48),\n",
    "    batch_size=32,\n",
    "    color_mode='grayscale',\n",
    "    class_mode='categorical',\n",
    "    shuffle=False  # Add shuffling here\n",
    ")"
   ]
  },
  {
   "cell_type": "code",
   "execution_count": 31,
   "id": "48089421-d0f7-4b39-a68c-89b6f9f830ba",
   "metadata": {},
   "outputs": [],
   "source": [
    "model = Sequential([\n",
    "    Conv2D(64, (3, 3), activation='relu',padding='same', input_shape=(48, 48, 1)),\n",
    "    MaxPooling2D(2, 2),\n",
    "    BatchNormalization(),\n",
    "    Dropout(0.2),\n",
    "    Conv2D(128, (5, 5), activation='relu',padding='same'),\n",
    "    MaxPooling2D(2, 2),\n",
    "    BatchNormalization(),\n",
    "    Dropout(0.2),\n",
    "    Conv2D(128, (3, 3), activation='relu',padding='same'),\n",
    "    MaxPooling2D(2, 2),\n",
    "    BatchNormalization(),\n",
    "    Dropout(0.2),\n",
    "    BatchNormalization(),\n",
    "    Dropout(0.5),\n",
    "    Flatten(),\n",
    "    Dense(1024, activation='relu'),\n",
    "    BatchNormalization(),\n",
    "    Dropout(0.2),\n",
    "    Dense(1024, activation='relu'),\n",
    "    BatchNormalization(),\n",
    "    Dropout(0.2),\n",
    "    Dense(7, activation='softmax')  # Assuming 7 emotions\n",
    "    \n",
    "])"
   ]
  },
  {
   "cell_type": "code",
   "execution_count": 32,
   "id": "56d47d2e-d41c-4019-8409-759afc3443db",
   "metadata": {},
   "outputs": [
    {
     "name": "stdout",
     "output_type": "stream",
     "text": [
      "Model: \"sequential_3\"\n",
      "_________________________________________________________________\n",
      " Layer (type)                Output Shape              Param #   \n",
      "=================================================================\n",
      " conv2d_9 (Conv2D)           (None, 48, 48, 64)        640       \n",
      "                                                                 \n",
      " max_pooling2d_9 (MaxPoolin  (None, 24, 24, 64)        0         \n",
      " g2D)                                                            \n",
      "                                                                 \n",
      " batch_normalization_20 (Ba  (None, 24, 24, 64)        256       \n",
      " tchNormalization)                                               \n",
      "                                                                 \n",
      " dropout_20 (Dropout)        (None, 24, 24, 64)        0         \n",
      "                                                                 \n",
      " conv2d_10 (Conv2D)          (None, 24, 24, 128)       204928    \n",
      "                                                                 \n",
      " max_pooling2d_10 (MaxPooli  (None, 12, 12, 128)       0         \n",
      " ng2D)                                                           \n",
      "                                                                 \n",
      " batch_normalization_21 (Ba  (None, 12, 12, 128)       512       \n",
      " tchNormalization)                                               \n",
      "                                                                 \n",
      " dropout_21 (Dropout)        (None, 12, 12, 128)       0         \n",
      "                                                                 \n",
      " conv2d_11 (Conv2D)          (None, 12, 12, 128)       147584    \n",
      "                                                                 \n",
      " max_pooling2d_11 (MaxPooli  (None, 6, 6, 128)         0         \n",
      " ng2D)                                                           \n",
      "                                                                 \n",
      " batch_normalization_22 (Ba  (None, 6, 6, 128)         512       \n",
      " tchNormalization)                                               \n",
      "                                                                 \n",
      " dropout_22 (Dropout)        (None, 6, 6, 128)         0         \n",
      "                                                                 \n",
      " batch_normalization_23 (Ba  (None, 6, 6, 128)         512       \n",
      " tchNormalization)                                               \n",
      "                                                                 \n",
      " dropout_23 (Dropout)        (None, 6, 6, 128)         0         \n",
      "                                                                 \n",
      " flatten_3 (Flatten)         (None, 4608)              0         \n",
      "                                                                 \n",
      " dense_11 (Dense)            (None, 1024)              4719616   \n",
      "                                                                 \n",
      " batch_normalization_24 (Ba  (None, 1024)              4096      \n",
      " tchNormalization)                                               \n",
      "                                                                 \n",
      " dropout_24 (Dropout)        (None, 1024)              0         \n",
      "                                                                 \n",
      " dense_12 (Dense)            (None, 1024)              1049600   \n",
      "                                                                 \n",
      " batch_normalization_25 (Ba  (None, 1024)              4096      \n",
      " tchNormalization)                                               \n",
      "                                                                 \n",
      " dropout_25 (Dropout)        (None, 1024)              0         \n",
      "                                                                 \n",
      " dense_13 (Dense)            (None, 7)                 7175      \n",
      "                                                                 \n",
      "=================================================================\n",
      "Total params: 6139527 (23.42 MB)\n",
      "Trainable params: 6134535 (23.40 MB)\n",
      "Non-trainable params: 4992 (19.50 KB)\n",
      "_________________________________________________________________\n"
     ]
    }
   ],
   "source": [
    "model.compile(optimizer='adam',  # Adjusted initial learning rate\n",
    "              loss='categorical_crossentropy',\n",
    "              metrics=['accuracy'])\n",
    "model.summary()"
   ]
  },
  {
   "cell_type": "code",
   "execution_count": null,
   "id": "15e0d2d1-f80b-4575-bca4-8cbcc2ee3b9a",
   "metadata": {
    "scrolled": true
   },
   "outputs": [
    {
     "name": "stdout",
     "output_type": "stream",
     "text": [
      "Epoch 1/100\n"
     ]
    },
    {
     "name": "stderr",
     "output_type": "stream",
     "text": [
      "2024-05-05 23:20:09.467801: I tensorflow/core/grappler/optimizers/custom_graph_optimizer_registry.cc:114] Plugin optimizer for device_type GPU is enabled.\n"
     ]
    },
    {
     "name": "stdout",
     "output_type": "stream",
     "text": [
      "888/888 [==============================] - ETA: 0s - loss: 1.8699 - accuracy: 0.3056"
     ]
    },
    {
     "name": "stderr",
     "output_type": "stream",
     "text": [
      "2024-05-05 23:20:34.476095: I tensorflow/core/grappler/optimizers/custom_graph_optimizer_registry.cc:114] Plugin optimizer for device_type GPU is enabled.\n"
     ]
    },
    {
     "name": "stdout",
     "output_type": "stream",
     "text": [
      "888/888 [==============================] - 28s 30ms/step - loss: 1.8699 - accuracy: 0.3056 - val_loss: 2.3645 - val_accuracy: 0.3344\n",
      "Epoch 2/100\n",
      "888/888 [==============================] - 28s 32ms/step - loss: 1.5684 - accuracy: 0.3869 - val_loss: 2.2450 - val_accuracy: 0.4311\n",
      "Epoch 3/100\n",
      "888/888 [==============================] - 32s 36ms/step - loss: 1.4405 - accuracy: 0.4342 - val_loss: 2.4538 - val_accuracy: 0.4144\n",
      "Epoch 4/100\n",
      "888/888 [==============================] - 30s 33ms/step - loss: 1.3700 - accuracy: 0.4668 - val_loss: 2.3858 - val_accuracy: 0.4482\n",
      "Epoch 5/100\n",
      "888/888 [==============================] - 30s 34ms/step - loss: 1.3251 - accuracy: 0.4864 - val_loss: 2.4389 - val_accuracy: 0.4357\n",
      "Epoch 6/100\n",
      "888/888 [==============================] - 28s 32ms/step - loss: 1.2922 - accuracy: 0.5013 - val_loss: 2.6026 - val_accuracy: 0.3984\n",
      "Epoch 7/100\n",
      "888/888 [==============================] - 30s 34ms/step - loss: 1.2591 - accuracy: 0.5148 - val_loss: 2.4668 - val_accuracy: 0.4721\n",
      "Epoch 8/100\n",
      "888/888 [==============================] - 31s 35ms/step - loss: 1.2455 - accuracy: 0.5213 - val_loss: 2.4374 - val_accuracy: 0.4915\n",
      "Epoch 9/100\n",
      "888/888 [==============================] - 31s 34ms/step - loss: 1.2164 - accuracy: 0.5319 - val_loss: 2.4885 - val_accuracy: 0.4874\n",
      "Epoch 10/100\n",
      "888/888 [==============================] - 34s 38ms/step - loss: 1.1996 - accuracy: 0.5409 - val_loss: 2.5798 - val_accuracy: 0.4759\n",
      "Epoch 11/100\n",
      "888/888 [==============================] - 31s 35ms/step - loss: 1.1868 - accuracy: 0.5490 - val_loss: 2.6786 - val_accuracy: 0.4379\n",
      "Epoch 12/100\n",
      "888/888 [==============================] - 30s 34ms/step - loss: 1.1683 - accuracy: 0.5557 - val_loss: 2.6205 - val_accuracy: 0.4907\n",
      "Epoch 13/100\n",
      "888/888 [==============================] - 32s 36ms/step - loss: 1.1570 - accuracy: 0.5601 - val_loss: 2.6667 - val_accuracy: 0.4863\n",
      "Epoch 14/100\n",
      "314/888 [=========>....................] - ETA: 22s - loss: 1.1357 - accuracy: 0.5659"
     ]
    }
   ],
   "source": [
    "history = model.fit(\n",
    "    train_generator,\n",
    "    steps_per_epoch=len(train_generator),\n",
    "    epochs=100,  # Increased epochs\n",
    "    validation_data=validation_generator,\n",
    "    validation_steps=len(validation_generator)\n",
    ")"
   ]
  },
  {
   "cell_type": "code",
   "execution_count": null,
   "id": "44fcbea6-85bd-4b92-bbee-310227eea13d",
   "metadata": {},
   "outputs": [],
   "source": [
    "validation_loss, validation_accuracy = model.evaluate(validation_generator)\n",
    "print(f'Validation Accuracy: {validation_accuracy * 100:.2f}%')"
   ]
  },
  {
   "cell_type": "code",
   "execution_count": null,
   "id": "28f3b1a5-4ae1-4a37-abce-bb313d1f4b94",
   "metadata": {},
   "outputs": [],
   "source": [
    "\n",
    "plt.plot(history.history['accuracy'], label='Training Accuracy')\n",
    "plt.plot(history.history['val_accuracy'], label='Validation Accuracy')\n",
    "plt.xlabel('Epochs')\n",
    "plt.ylabel('Accuracy')\n",
    "plt.legend()\n",
    "plt.show()\n",
    "\n",
    "plt.plot(history.history['loss'], label='Training Loss')\n",
    "plt.plot(history.history['val_loss'], label='Validation Loss')\n",
    "plt.xlabel('Epochs')\n",
    "plt.ylabel('Loss')\n",
    "plt.legend()\n",
    "plt.show()\n"
   ]
  },
  {
   "cell_type": "code",
   "execution_count": null,
   "id": "29c96cc5-9474-4c35-9e5b-6ca4e03133b4",
   "metadata": {},
   "outputs": [],
   "source": [
    "model.save('emotion_detection_model.h5')"
   ]
  },
  {
   "cell_type": "code",
   "execution_count": null,
   "id": "d8a3681c-e825-46fc-8cf5-928326235798",
   "metadata": {},
   "outputs": [],
   "source": [
    "from sklearn.metrics import confusion_matrix, classification_report\n",
    "import seaborn as sns\n",
    "\n",
    "\n",
    "# Predict classes on validation data\n",
    "y_pred = model.predict(validation_generator)\n",
    "y_pred_classes = np.argmax(y_pred, axis=1)\n",
    "true_classes = validation_generator.classes\n",
    "\n",
    "# Generate confusion matrix\n",
    "conf_mat = confusion_matrix(true_classes, y_pred_classes)\n",
    "\n",
    "# Plot confusion matrix\n",
    "plt.figure(figsize=(8, 6))\n",
    "sns.heatmap(conf_mat, annot=True, fmt='d', cmap='Blues')\n",
    "plt.xlabel('Predicted Label')\n",
    "plt.ylabel('True Label')\n",
    "plt.title('Confusion Matrix')\n",
    "plt.show()\n",
    "\n",
    "# Calculate emotion-specific metrics\n",
    "emotion_labels = validation_generator.class_indices.keys()\n",
    "class_report = classification_report(true_classes, y_pred_classes, target_names=emotion_labels)\n",
    "print(class_report)\n"
   ]
  },
  {
   "cell_type": "code",
   "execution_count": null,
   "id": "cc7b9453-99f1-4ea1-ab31-226336ebcbfc",
   "metadata": {},
   "outputs": [],
   "source": [
    "from sklearn.metrics import confusion_matrix, classification_report\n",
    "import seaborn as sns\n",
    "\n",
    "\n",
    "# Generate confusion matrix and emotion-specific metrics\n",
    "y_pred = model.predict(validation_generator)\n",
    "y_pred_classes = np.argmax(y_pred, axis=1)\n",
    "true_classes = validation_generator.classes\n",
    "conf_mat = confusion_matrix(true_classes, y_pred_classes)\n",
    "emotion_labels = validation_generator.class_indices.keys()\n",
    "class_report = classification_report(true_classes, y_pred_classes, target_names=emotion_labels)\n",
    "\n",
    "# Plot confusion matrix\n",
    "plt.figure(figsize=(8, 6))\n",
    "sns.heatmap(conf_mat, annot=True, fmt='d', cmap='Blues')\n",
    "plt.xlabel('Predicted Label')\n",
    "plt.ylabel('True Label')\n",
    "plt.title('Confusion Matrix')\n",
    "plt.show()\n",
    "\n",
    "# Print emotion-specific metrics\n",
    "print(class_report)\n"
   ]
  },
  {
   "cell_type": "code",
   "execution_count": null,
   "id": "0d91bf01-466d-4f24-a8bf-0647106ef385",
   "metadata": {},
   "outputs": [],
   "source": []
  },
  {
   "cell_type": "code",
   "execution_count": null,
   "id": "df1473bd-cc09-4ac2-9d19-172da61a534b",
   "metadata": {},
   "outputs": [],
   "source": []
  }
 ],
 "metadata": {
  "kernelspec": {
   "display_name": "Python 3 (ipykernel)",
   "language": "python",
   "name": "python3"
  },
  "language_info": {
   "codemirror_mode": {
    "name": "ipython",
    "version": 3
   },
   "file_extension": ".py",
   "mimetype": "text/x-python",
   "name": "python",
   "nbconvert_exporter": "python",
   "pygments_lexer": "ipython3",
   "version": "3.8.19"
  }
 },
 "nbformat": 4,
 "nbformat_minor": 5
}
